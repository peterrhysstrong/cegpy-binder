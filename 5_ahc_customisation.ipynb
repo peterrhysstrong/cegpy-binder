{
 "cells": [
  {
   "cell_type": "markdown",
   "metadata": {},
   "source": [
    "Show default prior and hyperstage.\n",
    "\n",
    " \n",
    "Alpha: Imaginary sample size. Assume 500 people through the tree. Split evenly.\n",
    "_Add customised alpha, which sets all priors._\n",
    "\n",
    "Prior: Don't want uniform prior split across the tree, then give prior explicitly. _Take default prior, change some things in it, pass it through._\n",
    "\n",
    "Hyperstage: Everything in same hyperstage must have same number of outgoing edges. _Take existing hyperstage and break it into two smaller ones._"
   ]
  },
  {
   "cell_type": "code",
   "execution_count": null,
   "metadata": {},
   "outputs": [],
   "source": []
  }
 ],
 "metadata": {
  "kernelspec": {
   "display_name": "Python 3.9.12 64-bit",
   "language": "python",
   "name": "python3"
  },
  "language_info": {
   "name": "python",
   "version": "3.9.12"
  },
  "orig_nbformat": 4,
  "vscode": {
   "interpreter": {
    "hash": "949777d72b0d2535278d3dc13498b2535136f6dfe0678499012e853ee9abcab1"
   }
  }
 },
 "nbformat": 4,
 "nbformat_minor": 2
}
