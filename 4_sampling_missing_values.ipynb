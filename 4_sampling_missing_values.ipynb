{
 "cells": [
  {
   "cell_type": "markdown",
   "metadata": {},
   "source": [
    "1. How do you add a path that didn't exist to sampling missing values.\n",
    "    e.g. Falls example: We know that some people who were assessed and high risk were not referred or treated. By design was allowed, but was not observed. How do you add this path?\n",
    "        And show how you add multiple paths.\n",
    "\n",
    "2. Change NaNs to something else. \"miss\" or something. Initiating the class. Add label for structural and sampling missing values.\n",
    "\n"
   ]
  },
  {
   "cell_type": "code",
   "execution_count": null,
   "metadata": {},
   "outputs": [],
   "source": []
  }
 ],
 "metadata": {
  "kernelspec": {
   "display_name": "Python 3.9.12 64-bit",
   "language": "python",
   "name": "python3"
  },
  "language_info": {
   "name": "python",
   "version": "3.9.12"
  },
  "orig_nbformat": 4,
  "vscode": {
   "interpreter": {
    "hash": "949777d72b0d2535278d3dc13498b2535136f6dfe0678499012e853ee9abcab1"
   }
  }
 },
 "nbformat": 4,
 "nbformat_minor": 2
}
